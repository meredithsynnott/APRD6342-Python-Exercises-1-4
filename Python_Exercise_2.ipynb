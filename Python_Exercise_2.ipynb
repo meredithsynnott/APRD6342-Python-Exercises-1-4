{
  "nbformat": 4,
  "nbformat_minor": 0,
  "metadata": {
    "colab": {
      "name": "Python Exercise 2.ipynb",
      "provenance": [],
      "collapsed_sections": []
    },
    "kernelspec": {
      "name": "python3",
      "display_name": "Python 3"
    }
  },
  "cells": [
    {
      "cell_type": "markdown",
      "metadata": {
        "id": "f_8cUjdbdJL-",
        "colab_type": "text"
      },
      "source": [
        "Python Exercise 2: Meredith Synnott"
      ]
    },
    {
      "cell_type": "code",
      "metadata": {
        "id": "hfWM_Ei4iZua",
        "colab_type": "code",
        "outputId": "da9b23dc-be25-4914-9cde-9a037f78998f",
        "colab": {
          "base_uri": "https://localhost:8080/",
          "height": 124
        }
      },
      "source": [
        "import pandas as pd\n",
        "import seaborn as sns\n",
        "%matplotlib inline\n",
        "import matplotlib.pyplot as plt\n",
        "plt.style.use('seaborn-whitegrid')\n",
        "import numpy as np\n",
        "from google.colab import drive\n",
        "drive.mount('/content/drive')"
      ],
      "execution_count": 0,
      "outputs": [
        {
          "output_type": "stream",
          "text": [
            "Go to this URL in a browser: https://accounts.google.com/o/oauth2/auth?client_id=947318989803-6bn6qk8qdgf4n4g3pfee6491hc0brc4i.apps.googleusercontent.com&redirect_uri=urn%3aietf%3awg%3aoauth%3a2.0%3aoob&response_type=code&scope=email%20https%3a%2f%2fwww.googleapis.com%2fauth%2fdocs.test%20https%3a%2f%2fwww.googleapis.com%2fauth%2fdrive%20https%3a%2f%2fwww.googleapis.com%2fauth%2fdrive.photos.readonly%20https%3a%2f%2fwww.googleapis.com%2fauth%2fpeopleapi.readonly\n",
            "\n",
            "Enter your authorization code:\n",
            "··········\n",
            "Mounted at /content/drive\n"
          ],
          "name": "stdout"
        }
      ]
    },
    {
      "cell_type": "code",
      "metadata": {
        "id": "r9tETfckVfBz",
        "colab_type": "code",
        "colab": {}
      },
      "source": [
        "DATA_URL = 'http://128.138.93.164/aprd6342/data/TravelPonyFacebook.csv'\n",
        "df = pd.read_csv(DATA_URL)"
      ],
      "execution_count": 0,
      "outputs": []
    },
    {
      "cell_type": "code",
      "metadata": {
        "id": "3Yv7PR3UafPM",
        "colab_type": "code",
        "colab": {}
      },
      "source": [
        "#Remove rows that have 0 amount spent\n",
        "df_clean = df[(df[['Amount Spent (USD)']] != 0).all(axis=1)]"
      ],
      "execution_count": 0,
      "outputs": []
    },
    {
      "cell_type": "code",
      "metadata": {
        "id": "X_5jxHt8cIWK",
        "colab_type": "code",
        "outputId": "0b06276c-a786-47cb-d5da-7458bff10e55",
        "colab": {
          "base_uri": "https://localhost:8080/",
          "height": 293
        }
      },
      "source": [
        "#graph a histogram of Amount Spent using Seaborn\n",
        "sns.set_style('darkgrid')\n",
        "sns.distplot(df_clean['Amount Spent (USD)'])"
      ],
      "execution_count": 0,
      "outputs": [
        {
          "output_type": "execute_result",
          "data": {
            "text/plain": [
              "<matplotlib.axes._subplots.AxesSubplot at 0x7f02f9603a20>"
            ]
          },
          "metadata": {
            "tags": []
          },
          "execution_count": 15
        },
        {
          "output_type": "display_data",
          "data": {
            "image/png": "[encoded data removed]",
            "text/plain": [
              "<Figure size 432x288 with 1 Axes>"
            ]
          },
          "metadata": {
            "tags": []
          }
        }
      ]
    },
    {
      "cell_type": "code",
      "metadata": {
        "id": "oW-5CqJOb7kb",
        "colab_type": "code",
        "colab": {}
      },
      "source": [
        "#Create scatter plots for spend and: reach, frequency, impressions and clicks"
      ],
      "execution_count": 0,
      "outputs": []
    },
    {
      "cell_type": "code",
      "metadata": {
        "id": "kb7lFGI_fE6R",
        "colab_type": "code",
        "outputId": "24fcc96a-ed8f-4057-e47b-33d801934e6c",
        "colab": {
          "base_uri": "https://localhost:8080/",
          "height": 293
        }
      },
      "source": [
        "sns.scatterplot(x='Amount Spent (USD)', y='Reach', data=df)"
      ],
      "execution_count": 0,
      "outputs": [
        {
          "output_type": "execute_result",
          "data": {
            "text/plain": [
              "<matplotlib.axes._subplots.AxesSubplot at 0x7f02f80a0cf8>"
            ]
          },
          "metadata": {
            "tags": []
          },
          "execution_count": 17
        },
        {
          "output_type": "display_data",
          "data": {
            "image/png": "[encoded data removed]",
            "text/plain": [
              "<Figure size 432x288 with 1 Axes>"
            ]
          },
          "metadata": {
            "tags": []
          }
        }
      ]
    },
    {
      "cell_type": "code",
      "metadata": {
        "id": "YWT0jCZrh0Hk",
        "colab_type": "code",
        "outputId": "754e2a71-57b5-4b7b-fb50-1f5de0b1b576",
        "colab": {
          "base_uri": "https://localhost:8080/",
          "height": 293
        }
      },
      "source": [
        "sns.scatterplot(x='Amount Spent (USD)', y='Frequency', data=df)"
      ],
      "execution_count": 0,
      "outputs": [
        {
          "output_type": "execute_result",
          "data": {
            "text/plain": [
              "<matplotlib.axes._subplots.AxesSubplot at 0x7f02f572b240>"
            ]
          },
          "metadata": {
            "tags": []
          },
          "execution_count": 19
        },
        {
          "output_type": "display_data",
          "data": {
            "image/png": "[encoded data removed]",
            "text/plain": [
              "<Figure size 432x288 with 1 Axes>"
            ]
          },
          "metadata": {
            "tags": []
          }
        }
      ]
    },
    {
      "cell_type": "code",
      "metadata": {
        "id": "ybFgxjUAh0wA",
        "colab_type": "code",
        "outputId": "6f472021-0218-4c50-bd84-b3fdc4d575ac",
        "colab": {
          "base_uri": "https://localhost:8080/",
          "height": 297
        }
      },
      "source": [
        "sns.scatterplot(x='Amount Spent (USD)', y='Impressions', data=df)"
      ],
      "execution_count": 0,
      "outputs": [
        {
          "output_type": "execute_result",
          "data": {
            "text/plain": [
              "<matplotlib.axes._subplots.AxesSubplot at 0x7f02f56fb320>"
            ]
          },
          "metadata": {
            "tags": []
          },
          "execution_count": 20
        },
        {
          "output_type": "display_data",
          "data": {
            "image/png": "[encoded data removed]",
            "text/plain": [
              "<Figure size 432x288 with 1 Axes>"
            ]
          },
          "metadata": {
            "tags": []
          }
        }
      ]
    },
    {
      "cell_type": "code",
      "metadata": {
        "id": "TDUSiYRTh77a",
        "colab_type": "code",
        "outputId": "8c8bc748-5189-4eab-9d63-9f7c9795ed96",
        "colab": {
          "base_uri": "https://localhost:8080/",
          "height": 293
        }
      },
      "source": [
        "sns.scatterplot(x='Amount Spent (USD)', y='Clicks', data=df)"
      ],
      "execution_count": 0,
      "outputs": [
        {
          "output_type": "execute_result",
          "data": {
            "text/plain": [
              "<matplotlib.axes._subplots.AxesSubplot at 0x7f02f56c5a90>"
            ]
          },
          "metadata": {
            "tags": []
          },
          "execution_count": 21
        },
        {
          "output_type": "display_data",
          "data": {
            "image/png": "[encoded data removed]",
            "text/plain": [
              "<Figure size 432x288 with 1 Axes>"
            ]
          },
          "metadata": {
            "tags": []
          }
        }
      ]
    },
    {
      "cell_type": "markdown",
      "metadata": {
        "id": "_HC_2bINl17P",
        "colab_type": "text"
      },
      "source": [
        "I see linear relationships with Amount Spent and Reach, Impression, and Clicks. There are quite a few outliers in the otehr graphs but for the majority of graphs I think a linear regression works. "
      ]
    },
    {
      "cell_type": "code",
      "metadata": {
        "id": "D49_w1eiZAoR",
        "colab_type": "code",
        "colab": {}
      },
      "source": [
        "#2. Build a multiple regression \n",
        "#convert campaign name to some type of categorical variable\n",
        "df_clean['Campaign Name'] = df_clean['Campaign Name'].astype('str') # set Campaign Name to strings\n",
        "df_clean['Campaign Name'] = df_clean['Campaign Name'].str.replace('[^a-zA-Z0-9:\\s+]', '') # remove _\n",
        "df_clean['Campaign Name'] = df_clean['Campaign Name'].str.replace('\\d+', '') # remove numbers\n",
        "df_clean.loc[df_clean['Campaign Name'].str.contains('travelpony', case = False), 'Campaign Name'] = 'TravelPony'\n",
        "df_clean.loc[df_clean['Campaign Name'].str.contains('post', case = False), 'Campaign Name'] = 'Post'\n",
        "campaign_name = pd.get_dummies(df_clean['Campaign Name'])\n",
        "df_clean = pd.concat([df_clean, campaign_name], axis=1)"
      ],
      "execution_count": 0,
      "outputs": []
    },
    {
      "cell_type": "code",
      "metadata": {
        "id": "V-14bOKAjtiu",
        "colab_type": "code",
        "colab": {}
      },
      "source": [
        "import statsmodels.api as sm"
      ],
      "execution_count": 0,
      "outputs": []
    },
    {
      "cell_type": "code",
      "metadata": {
        "id": "fCPAE8VZZQM9",
        "colab_type": "code",
        "outputId": "78a1e516-448d-4802-f05a-b1040395ce70",
        "colab": {
          "base_uri": "https://localhost:8080/",
          "height": 827
        }
      },
      "source": [
        "#outcome variable is Amount Spent and the predictor variables are:Campaign Name,Reach,Frequency,Impressions,Clicks,Unique Clicks,Page Likes,Page Engagement,\n",
        "# Post Engagement,Post Likes,Post Comments,Post Shares,Photo Views,Website Clicks\n",
        "DV = df_clean['Amount Spent (USD)']\n",
        "IV = df_clean[['Ad ','Cyber Weekend','Nanigans','Post','SimpleMultiFillCampaign','TravelPony','Reach','Frequency','Impressions','Clicks','Unique Clicks','Page Likes','Page Engagement','Post Engagement','Post Likes','Post Comments','Post Shares','Photo Views','Website Clicks']]\n",
        "model = sm.OLS(DV, IV).fit()\n",
        "predictions = model.predict(IV) # make the predictions by the model\n",
        "model.summary()"
      ],
      "execution_count": 0,
      "outputs": [
        {
          "output_type": "execute_result",
          "data": {
            "text/html": [
              "<table class=\"simpletable\">\n",
              "<caption>OLS Regression Results</caption>\n",
              "<tr>\n",
              "  <th>Dep. Variable:</th>    <td>Amount Spent (USD)</td> <th>  R-squared:         </th> <td>   0.928</td> \n",
              "</tr>\n",
              "<tr>\n",
              "  <th>Model:</th>                    <td>OLS</td>        <th>  Adj. R-squared:    </th> <td>   0.928</td> \n",
              "</tr>\n",
              "<tr>\n",
              "  <th>Method:</th>              <td>Least Squares</td>   <th>  F-statistic:       </th> <td>   1360.</td> \n",
              "</tr>\n",
              "<tr>\n",
              "  <th>Date:</th>              <td>Wed, 20 Nov 2019</td>  <th>  Prob (F-statistic):</th>  <td>  0.00</td>  \n",
              "</tr>\n",
              "<tr>\n",
              "  <th>Time:</th>                  <td>20:44:16</td>      <th>  Log-Likelihood:    </th> <td> -6573.0</td> \n",
              "</tr>\n",
              "<tr>\n",
              "  <th>No. Observations:</th>       <td>  1802</td>       <th>  AIC:               </th> <td>1.318e+04</td>\n",
              "</tr>\n",
              "<tr>\n",
              "  <th>Df Residuals:</th>           <td>  1784</td>       <th>  BIC:               </th> <td>1.328e+04</td>\n",
              "</tr>\n",
              "<tr>\n",
              "  <th>Df Model:</th>               <td>    17</td>       <th>                     </th>     <td> </td>    \n",
              "</tr>\n",
              "<tr>\n",
              "  <th>Covariance Type:</th>       <td>nonrobust</td>     <th>                     </th>     <td> </td>    \n",
              "</tr>\n",
              "</table>\n",
              "<table class=\"simpletable\">\n",
              "<tr>\n",
              "             <td></td>                <th>coef</th>     <th>std err</th>      <th>t</th>      <th>P>|t|</th>  <th>[0.025</th>    <th>0.975]</th>  \n",
              "</tr>\n",
              "<tr>\n",
              "  <th>Ad </th>                     <td>    0.1666</td> <td>    3.803</td> <td>    0.044</td> <td> 0.965</td> <td>   -7.292</td> <td>    7.625</td>\n",
              "</tr>\n",
              "<tr>\n",
              "  <th>Cyber Weekend</th>           <td> -193.3195</td> <td>   26.951</td> <td>   -7.173</td> <td> 0.000</td> <td> -246.179</td> <td> -140.460</td>\n",
              "</tr>\n",
              "<tr>\n",
              "  <th>Nanigans</th>                <td>   -2.3150</td> <td>    2.014</td> <td>   -1.149</td> <td> 0.251</td> <td>   -6.266</td> <td>    1.636</td>\n",
              "</tr>\n",
              "<tr>\n",
              "  <th>Post</th>                    <td>  -12.0410</td> <td>    7.576</td> <td>   -1.589</td> <td> 0.112</td> <td>  -26.899</td> <td>    2.817</td>\n",
              "</tr>\n",
              "<tr>\n",
              "  <th>SimpleMultiFillCampaign</th> <td>   -0.0647</td> <td>    1.882</td> <td>   -0.034</td> <td> 0.973</td> <td>   -3.756</td> <td>    3.627</td>\n",
              "</tr>\n",
              "<tr>\n",
              "  <th>TravelPony</th>              <td>    7.2926</td> <td>    4.253</td> <td>    1.715</td> <td> 0.087</td> <td>   -1.048</td> <td>   15.633</td>\n",
              "</tr>\n",
              "<tr>\n",
              "  <th>Reach</th>                   <td>    0.0033</td> <td>    0.000</td> <td>   20.921</td> <td> 0.000</td> <td>    0.003</td> <td>    0.004</td>\n",
              "</tr>\n",
              "<tr>\n",
              "  <th>Frequency</th>               <td>   -0.7778</td> <td>    1.836</td> <td>   -0.424</td> <td> 0.672</td> <td>   -4.378</td> <td>    2.823</td>\n",
              "</tr>\n",
              "<tr>\n",
              "  <th>Impressions</th>             <td>   -0.0009</td> <td> 8.41e-05</td> <td>  -10.146</td> <td> 0.000</td> <td>   -0.001</td> <td>   -0.001</td>\n",
              "</tr>\n",
              "<tr>\n",
              "  <th>Clicks</th>                  <td>   -0.3859</td> <td>    0.113</td> <td>   -3.413</td> <td> 0.001</td> <td>   -0.608</td> <td>   -0.164</td>\n",
              "</tr>\n",
              "<tr>\n",
              "  <th>Unique Clicks</th>           <td>    0.5155</td> <td>    0.127</td> <td>    4.057</td> <td> 0.000</td> <td>    0.266</td> <td>    0.765</td>\n",
              "</tr>\n",
              "<tr>\n",
              "  <th>Page Likes</th>              <td>   24.4507</td> <td>    9.359</td> <td>    2.613</td> <td> 0.009</td> <td>    6.096</td> <td>   42.806</td>\n",
              "</tr>\n",
              "<tr>\n",
              "  <th>Page Engagement</th>         <td>  -21.1451</td> <td>    9.355</td> <td>   -2.260</td> <td> 0.024</td> <td>  -39.494</td> <td>   -2.796</td>\n",
              "</tr>\n",
              "<tr>\n",
              "  <th>Post Engagement</th>         <td>   18.0241</td> <td>    7.797</td> <td>    2.312</td> <td> 0.021</td> <td>    2.732</td> <td>   33.316</td>\n",
              "</tr>\n",
              "<tr>\n",
              "  <th>Post Likes</th>              <td>    2.6100</td> <td>    1.564</td> <td>    1.669</td> <td> 0.095</td> <td>   -0.458</td> <td>    5.678</td>\n",
              "</tr>\n",
              "<tr>\n",
              "  <th>Post Comments</th>           <td>    3.5949</td> <td>    1.627</td> <td>    2.209</td> <td> 0.027</td> <td>    0.403</td> <td>    6.787</td>\n",
              "</tr>\n",
              "<tr>\n",
              "  <th>Post Shares</th>             <td>    4.9334</td> <td>    1.588</td> <td>    3.107</td> <td> 0.002</td> <td>    1.819</td> <td>    8.048</td>\n",
              "</tr>\n",
              "<tr>\n",
              "  <th>Photo Views</th>             <td>    3.3214</td> <td>    1.562</td> <td>    2.126</td> <td> 0.034</td> <td>    0.257</td> <td>    6.385</td>\n",
              "</tr>\n",
              "<tr>\n",
              "  <th>Website Clicks</th>          <td>    3.5644</td> <td>    1.563</td> <td>    2.281</td> <td> 0.023</td> <td>    0.500</td> <td>    6.629</td>\n",
              "</tr>\n",
              "</table>\n",
              "<table class=\"simpletable\">\n",
              "<tr>\n",
              "  <th>Omnibus:</th>       <td>796.064</td> <th>  Durbin-Watson:     </th> <td>   1.812</td> \n",
              "</tr>\n",
              "<tr>\n",
              "  <th>Prob(Omnibus):</th> <td> 0.000</td>  <th>  Jarque-Bera (JB):  </th> <td>21680.838</td>\n",
              "</tr>\n",
              "<tr>\n",
              "  <th>Skew:</th>          <td> 1.484</td>  <th>  Prob(JB):          </th> <td>    0.00</td> \n",
              "</tr>\n",
              "<tr>\n",
              "  <th>Kurtosis:</th>      <td>19.732</td>  <th>  Cond. No.          </th> <td>3.51e+18</td> \n",
              "</tr>\n",
              "</table><br/><br/>Warnings:<br/>[1] Standard Errors assume that the covariance matrix of the errors is correctly specified.<br/>[2] The smallest eigenvalue is 1.57e-25. This might indicate that there are<br/>strong multicollinearity problems or that the design matrix is singular."
            ],
            "text/plain": [
              "<class 'statsmodels.iolib.summary.Summary'>\n",
              "\"\"\"\n",
              "                            OLS Regression Results                            \n",
              "==============================================================================\n",
              "Dep. Variable:     Amount Spent (USD)   R-squared:                       0.928\n",
              "Model:                            OLS   Adj. R-squared:                  0.928\n",
              "Method:                 Least Squares   F-statistic:                     1360.\n",
              "Date:                Wed, 20 Nov 2019   Prob (F-statistic):               0.00\n",
              "Time:                        20:44:16   Log-Likelihood:                -6573.0\n",
              "No. Observations:                1802   AIC:                         1.318e+04\n",
              "Df Residuals:                    1784   BIC:                         1.328e+04\n",
              "Df Model:                          17                                         \n",
              "Covariance Type:            nonrobust                                         \n",
              "===========================================================================================\n",
              "                              coef    std err          t      P>|t|      [0.025      0.975]\n",
              "-------------------------------------------------------------------------------------------\n",
              "Ad                          0.1666      3.803      0.044      0.965      -7.292       7.625\n",
              "Cyber Weekend            -193.3195     26.951     -7.173      0.000    -246.179    -140.460\n",
              "Nanigans                   -2.3150      2.014     -1.149      0.251      -6.266       1.636\n",
              "Post                      -12.0410      7.576     -1.589      0.112     -26.899       2.817\n",
              "SimpleMultiFillCampaign    -0.0647      1.882     -0.034      0.973      -3.756       3.627\n",
              "TravelPony                  7.2926      4.253      1.715      0.087      -1.048      15.633\n",
              "Reach                       0.0033      0.000     20.921      0.000       0.003       0.004\n",
              "Frequency                  -0.7778      1.836     -0.424      0.672      -4.378       2.823\n",
              "Impressions                -0.0009   8.41e-05    -10.146      0.000      -0.001      -0.001\n",
              "Clicks                     -0.3859      0.113     -3.413      0.001      -0.608      -0.164\n",
              "Unique Clicks               0.5155      0.127      4.057      0.000       0.266       0.765\n",
              "Page Likes                 24.4507      9.359      2.613      0.009       6.096      42.806\n",
              "Page Engagement           -21.1451      9.355     -2.260      0.024     -39.494      -2.796\n",
              "Post Engagement            18.0241      7.797      2.312      0.021       2.732      33.316\n",
              "Post Likes                  2.6100      1.564      1.669      0.095      -0.458       5.678\n",
              "Post Comments               3.5949      1.627      2.209      0.027       0.403       6.787\n",
              "Post Shares                 4.9334      1.588      3.107      0.002       1.819       8.048\n",
              "Photo Views                 3.3214      1.562      2.126      0.034       0.257       6.385\n",
              "Website Clicks              3.5644      1.563      2.281      0.023       0.500       6.629\n",
              "==============================================================================\n",
              "Omnibus:                      796.064   Durbin-Watson:                   1.812\n",
              "Prob(Omnibus):                  0.000   Jarque-Bera (JB):            21680.838\n",
              "Skew:                           1.484   Prob(JB):                         0.00\n",
              "Kurtosis:                      19.732   Cond. No.                     3.51e+18\n",
              "==============================================================================\n",
              "\n",
              "Warnings:\n",
              "[1] Standard Errors assume that the covariance matrix of the errors is correctly specified.\n",
              "[2] The smallest eigenvalue is 1.57e-25. This might indicate that there are\n",
              "strong multicollinearity problems or that the design matrix is singular.\n",
              "\"\"\""
            ]
          },
          "metadata": {
            "tags": []
          },
          "execution_count": 26
        }
      ]
    },
    {
      "cell_type": "code",
      "metadata": {
        "id": "hiMSTwcWZSBo",
        "colab_type": "code",
        "outputId": "3c0421d4-3569-4c3c-927a-afb8cab0d7e9",
        "colab": {
          "base_uri": "https://localhost:8080/",
          "height": 417
        }
      },
      "source": [
        "# What are the three predictors with the highest predictive value (rank them, please). p-value < 0.05\n",
        "ModelSummary = []\n",
        "ModelSummary = pd.concat([model.params, model.pvalues, ],axis=1)\n",
        "ModelSummary.columns = ['Coef', 'Pvalue']\n",
        "ModelSummary = ModelSummary[ModelSummary['Pvalue'] <= 0.05].sort_values('Coef', ascending = False)\n",
        "ModelSummary['Rank'] = ModelSummary['Coef'].rank(ascending=0).astype(int)\n",
        "ModelSummary"
      ],
      "execution_count": 0,
      "outputs": [
        {
          "output_type": "execute_result",
          "data": {
            "text/html": [
              "<div>\n",
              "<style scoped>\n",
              "    .dataframe tbody tr th:only-of-type {\n",
              "        vertical-align: middle;\n",
              "    }\n",
              "\n",
              "    .dataframe tbody tr th {\n",
              "        vertical-align: top;\n",
              "    }\n",
              "\n",
              "    .dataframe thead th {\n",
              "        text-align: right;\n",
              "    }\n",
              "</style>\n",
              "<table border=\"1\" class=\"dataframe\">\n",
              "  <thead>\n",
              "    <tr style=\"text-align: right;\">\n",
              "      <th></th>\n",
              "      <th>Coef</th>\n",
              "      <th>Pvalue</th>\n",
              "      <th>Rank</th>\n",
              "    </tr>\n",
              "  </thead>\n",
              "  <tbody>\n",
              "    <tr>\n",
              "      <th>Page Likes</th>\n",
              "      <td>24.450740</td>\n",
              "      <td>9.059883e-03</td>\n",
              "      <td>1</td>\n",
              "    </tr>\n",
              "    <tr>\n",
              "      <th>Post Engagement</th>\n",
              "      <td>18.024142</td>\n",
              "      <td>2.090729e-02</td>\n",
              "      <td>2</td>\n",
              "    </tr>\n",
              "    <tr>\n",
              "      <th>Post Shares</th>\n",
              "      <td>4.933423</td>\n",
              "      <td>1.920459e-03</td>\n",
              "      <td>3</td>\n",
              "    </tr>\n",
              "    <tr>\n",
              "      <th>Post Comments</th>\n",
              "      <td>3.594876</td>\n",
              "      <td>2.731019e-02</td>\n",
              "      <td>4</td>\n",
              "    </tr>\n",
              "    <tr>\n",
              "      <th>Website Clicks</th>\n",
              "      <td>3.564398</td>\n",
              "      <td>2.265358e-02</td>\n",
              "      <td>5</td>\n",
              "    </tr>\n",
              "    <tr>\n",
              "      <th>Photo Views</th>\n",
              "      <td>3.321407</td>\n",
              "      <td>3.363899e-02</td>\n",
              "      <td>6</td>\n",
              "    </tr>\n",
              "    <tr>\n",
              "      <th>Unique Clicks</th>\n",
              "      <td>0.515465</td>\n",
              "      <td>5.180673e-05</td>\n",
              "      <td>7</td>\n",
              "    </tr>\n",
              "    <tr>\n",
              "      <th>Reach</th>\n",
              "      <td>0.003310</td>\n",
              "      <td>4.302627e-87</td>\n",
              "      <td>8</td>\n",
              "    </tr>\n",
              "    <tr>\n",
              "      <th>Impressions</th>\n",
              "      <td>-0.000853</td>\n",
              "      <td>1.482248e-23</td>\n",
              "      <td>9</td>\n",
              "    </tr>\n",
              "    <tr>\n",
              "      <th>Clicks</th>\n",
              "      <td>-0.385926</td>\n",
              "      <td>6.578548e-04</td>\n",
              "      <td>10</td>\n",
              "    </tr>\n",
              "    <tr>\n",
              "      <th>Page Engagement</th>\n",
              "      <td>-21.145054</td>\n",
              "      <td>2.392916e-02</td>\n",
              "      <td>11</td>\n",
              "    </tr>\n",
              "    <tr>\n",
              "      <th>Cyber Weekend</th>\n",
              "      <td>-193.319513</td>\n",
              "      <td>1.071102e-12</td>\n",
              "      <td>12</td>\n",
              "    </tr>\n",
              "  </tbody>\n",
              "</table>\n",
              "</div>"
            ],
            "text/plain": [
              "                       Coef        Pvalue  Rank\n",
              "Page Likes        24.450740  9.059883e-03     1\n",
              "Post Engagement   18.024142  2.090729e-02     2\n",
              "Post Shares        4.933423  1.920459e-03     3\n",
              "Post Comments      3.594876  2.731019e-02     4\n",
              "Website Clicks     3.564398  2.265358e-02     5\n",
              "Photo Views        3.321407  3.363899e-02     6\n",
              "Unique Clicks      0.515465  5.180673e-05     7\n",
              "Reach              0.003310  4.302627e-87     8\n",
              "Impressions       -0.000853  1.482248e-23     9\n",
              "Clicks            -0.385926  6.578548e-04    10\n",
              "Page Engagement  -21.145054  2.392916e-02    11\n",
              "Cyber Weekend   -193.319513  1.071102e-12    12"
            ]
          },
          "metadata": {
            "tags": []
          },
          "execution_count": 27
        }
      ]
    },
    {
      "cell_type": "markdown",
      "metadata": {
        "id": "ETpZHLWImNki",
        "colab_type": "text"
      },
      "source": [
        "Three predictors with the highest predictive values are:\n",
        "Page Likes(24.450740)\n",
        "Post Enagementment(18.024142)\n",
        "Post Shares(4.933423)"
      ]
    }
  ]
}